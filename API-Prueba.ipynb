{
 "cells": [
  {
   "cell_type": "code",
   "execution_count": 20,
   "metadata": {},
   "outputs": [],
   "source": [
    "import requests"
   ]
  },
  {
   "cell_type": "markdown",
   "metadata": {},
   "source": [
    "### Crear usuarios:"
   ]
  },
  {
   "cell_type": "code",
   "execution_count": 149,
   "metadata": {},
   "outputs": [
    {
     "data": {
      "text/plain": [
       "<Response [200]>"
      ]
     },
     "execution_count": 149,
     "metadata": {},
     "output_type": "execute_result"
    }
   ],
   "source": [
    "requests.get(\"http://localhost:5000/user/create/Luka Modric\")"
   ]
  },
  {
   "cell_type": "markdown",
   "metadata": {},
   "source": [
    "### Crear chats:"
   ]
  },
  {
   "cell_type": "code",
   "execution_count": 153,
   "metadata": {},
   "outputs": [
    {
     "data": {
      "text/plain": [
       "<Response [200]>"
      ]
     },
     "execution_count": 153,
     "metadata": {},
     "output_type": "execute_result"
    }
   ],
   "source": [
    "requests.get(\"http://localhost:5000/chats/create/Capitanes\")"
   ]
  },
  {
   "cell_type": "markdown",
   "metadata": {},
   "source": [
    "### Insetar usuarios al chat:"
   ]
  },
  {
   "cell_type": "code",
   "execution_count": 171,
   "metadata": {},
   "outputs": [
    {
     "data": {
      "text/plain": [
       "<Response [200]>"
      ]
     },
     "execution_count": 171,
     "metadata": {},
     "output_type": "execute_result"
    }
   ],
   "source": [
    "requests.get(\"http://localhost:5000/insertUser/create/5e524de994eea8f5601aeea9/Santi Bermejo\")"
   ]
  },
  {
   "cell_type": "markdown",
   "metadata": {},
   "source": [
    "### Crear mensajes e insertarlo a un usuario y chat por _id:"
   ]
  },
  {
   "cell_type": "code",
   "execution_count": 211,
   "metadata": {},
   "outputs": [
    {
     "data": {
      "text/plain": [
       "<Response [200]>"
      ]
     },
     "execution_count": 211,
     "metadata": {},
     "output_type": "execute_result"
    }
   ],
   "source": [
    "requests.get(\"http://localhost:5000/createMessage/create/5e5242c695bf729cab917eb4/5e524de994eea8f5601aeea9/somos los mejores del mundo.\")"
   ]
  },
  {
   "cell_type": "markdown",
   "metadata": {},
   "source": [
    "### Lista de mensajes de un grupo"
   ]
  },
  {
   "cell_type": "code",
   "execution_count": 229,
   "metadata": {},
   "outputs": [
    {
     "data": {
      "text/plain": [
       "[{'message': 'Me han regalado unas botas de fútbol ,pero solo uso las mías ,alguien las  quiere.'},\n",
       " {'message': 'yo las quiero Tony, las estreno mañana'},\n",
       " {'message': 'tú vete a jugar al golf, no vas a jugar'},\n",
       " {'message': 'al fútbol soy malo, pero al golf soy el mejor'},\n",
       " {'message': 'Yo me llevo de fiesta vinicius, a ver si la mete de una vez'},\n",
       " {'message': 'Yo quiero jugar mañana, quiero marcar gol!'},\n",
       " {'message': 'eres el mejor del mundo, mañana juegas.'},\n",
       " {'message': 'presidente, te recuerdo quién ha ganado 4 copas de Europa.'},\n",
       " {'message': 'si, Cristiano Ronaldo, el mejor jugador de la historia del Real Madrid, mañana hay partido, espero quedes la talla y alcancéis nuevas victorias.'},\n",
       " {'message': 'somos los mejores del mundo.'}]"
      ]
     },
     "execution_count": 229,
     "metadata": {},
     "output_type": "execute_result"
    }
   ],
   "source": [
    "requests.get(\"http://localhost:5000/list/chats/5e524de994eea8f5601aeea9\").json()"
   ]
  },
  {
   "cell_type": "markdown",
   "metadata": {},
   "source": [
    "### Lista de mensajes de un usuario"
   ]
  },
  {
   "cell_type": "code",
   "execution_count": 218,
   "metadata": {},
   "outputs": [
    {
     "data": {
      "text/plain": [
       "[{'message': 'Hola presidente, será un orgullo hacerme cargo del club, pero quiero que estés a mi lado, haremos el Real Madrid aún más grande.'},\n",
       " {'message': 'Zidane, tienes toda la confianza por parte de la Presidencia, a ganarlo todo, confío mucho en ti y en los jugadores.'},\n",
       " {'message': 'eres el mejor del mundo, mañana juegas.'},\n",
       " {'message': 'si, Cristiano Ronaldo, el mejor jugador de la historia del Real Madrid, mañana hay partido, espero quedes la talla y alcancéis nuevas victorias.'}]"
      ]
     },
     "execution_count": 218,
     "metadata": {},
     "output_type": "execute_result"
    }
   ],
   "source": [
    "requests.get(\"http://localhost:5000/list/user/5e524d6c94eea8f5601aee9e\").json()"
   ]
  },
  {
   "cell_type": "markdown",
   "metadata": {},
   "source": [
    "### Analisis de sentiminetos de un grupo "
   ]
  },
  {
   "cell_type": "markdown",
   "metadata": {},
   "source": [
    "#### Polaridad y Subjetividad del grupo cúpula"
   ]
  },
  {
   "cell_type": "code",
   "execution_count": 219,
   "metadata": {},
   "outputs": [
    {
     "data": {
      "text/plain": [
       "[0.32803030303030306, 0.3934343434343434]"
      ]
     },
     "execution_count": 219,
     "metadata": {},
     "output_type": "execute_result"
    }
   ],
   "source": [
    "requests.get(\"http://localhost:5000/analize/chats/5e524de994eea8f5601aeea9\").json()"
   ]
  },
  {
   "cell_type": "markdown",
   "metadata": {},
   "source": [
    "### Analisis de sentiminetos de un usuario"
   ]
  },
  {
   "cell_type": "markdown",
   "metadata": {},
   "source": [
    "#### Polaridad y Subjetividad de usuario Santi Bermejo"
   ]
  },
  {
   "cell_type": "code",
   "execution_count": 220,
   "metadata": {},
   "outputs": [
    {
     "data": {
      "text/plain": [
       "[0.36704545454545456, 0.3693181818181819]"
      ]
     },
     "execution_count": 220,
     "metadata": {},
     "output_type": "execute_result"
    }
   ],
   "source": [
    "requests.get(\"http://localhost:5000/analize/users/5e524d6c94eea8f5601aee9e\").json()"
   ]
  },
  {
   "cell_type": "markdown",
   "metadata": {},
   "source": [
    "### Recomendar al usuario"
   ]
  },
  {
   "cell_type": "code",
   "execution_count": 225,
   "metadata": {},
   "outputs": [
    {
     "data": {
      "text/plain": [
       "[[{'user': 'Valverde'}], [{'user': 'Karim Benzema'}], [{'user': 'Marcelo'}]]"
      ]
     },
     "execution_count": 225,
     "metadata": {},
     "output_type": "execute_result"
    }
   ],
   "source": [
    "requests.get(\"http://localhost:5000/recommend/users/5e524d7894eea8f5601aeea0\").json()"
   ]
  },
  {
   "cell_type": "code",
   "execution_count": null,
   "metadata": {},
   "outputs": [],
   "source": []
  }
 ],
 "metadata": {
  "kernelspec": {
   "display_name": "Python 3",
   "language": "python",
   "name": "python3"
  },
  "language_info": {
   "codemirror_mode": {
    "name": "ipython",
    "version": 3
   },
   "file_extension": ".py",
   "mimetype": "text/x-python",
   "name": "python",
   "nbconvert_exporter": "python",
   "pygments_lexer": "ipython3",
   "version": "3.8.1"
  }
 },
 "nbformat": 4,
 "nbformat_minor": 4
}
